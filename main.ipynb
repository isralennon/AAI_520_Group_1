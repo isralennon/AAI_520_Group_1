{
 "cells": [
  {
   "cell_type": "code",
   "execution_count": 1,
   "id": "18dc57cb",
   "metadata": {},
   "outputs": [],
   "source": [
    "#!pip3 install -q -U google-genai"
   ]
  },
  {
   "cell_type": "code",
   "execution_count": 2,
   "id": "fce539fa",
   "metadata": {},
   "outputs": [
    {
     "data": {
      "text/plain": [
       "True"
      ]
     },
     "execution_count": 2,
     "metadata": {},
     "output_type": "execute_result"
    }
   ],
   "source": [
    "import dotenv\n",
    "import os\n",
    "import modules.tools as tools\n",
    "dotenv.load_dotenv(dotenv_path=\".env\")"
   ]
  },
  {
   "cell_type": "code",
   "execution_count": 4,
   "id": "3f662565-e622-4285-ac0f-0a0e4e118336",
   "metadata": {},
   "outputs": [
    {
     "data": {
      "text/plain": [
       "{'Yahoo Finance Stock Quote': <modules.tools.YahooFinance at 0x1731c758ec0>,\n",
       " 'Financial Modeling Prep Quote': <modules.tools.FMP at 0x1730bf5e3c0>,\n",
       " 'FinnHub News': <modules.tools.FinnHub at 0x1731c9376e0>}"
      ]
     },
     "execution_count": 4,
     "metadata": {},
     "output_type": "execute_result"
    }
   ],
   "source": [
    "registered_tools = [tools.YahooFinance(), tools.FMP(), tools.FinnHub()]\n",
    "toolsList = [ tool.to_dict() for tool in registered_tools ]\n",
    "executionMap= { tool.name: tool for tool in registered_tools }\n",
    "\n",
    "executionMap"
   ]
  },
  {
   "cell_type": "code",
   "execution_count": 5,
   "id": "00370758",
   "metadata": {},
   "outputs": [
    {
     "name": "stdout",
     "output_type": "stream",
     "text": [
      "You are a helpful Finance assistant that explains things in a few words.\n",
      "          You have the following tools:\n",
      "            [{'name': 'Yahoo Finance Stock Quote', 'description': 'Get the latest stock quote for a given symbol from Yahoo Finance.', 'api': '{ \"\"symbol\": \"AAPL\"}'}, {'name': 'Financial Modeling Prep Quote', 'description': 'Get the latest stock quote for a given symbol from Financial Modeling Prep (FMP).', 'api': '{ \"\"symbol\": \"AAPL\"}'}, {'name': 'FinnHub News', 'description': 'Get the latest financial news for a given symbol from FinnHub.', 'api': '{ \"\"symbol\": \"AAPL\"}'}]\n",
      "            \n",
      "            You should only use the tools listed above.\n",
      "            When you use a tool, you must call the API exactly as shown above.\n",
      "            You must always include the symbol in the API call.\n",
      "            You must always include the step in the API call.\n",
      "            You must always use double quotes for the JSON keys and string values in the API call.\n",
      "            You must never use single quotes in the API call.\n",
      "            You must never call any API that is not listed above.\n",
      "            You must never make up any API calls.\n",
      "            You must never repeat any steps.\n",
      "            \n",
      "            Here is an example of how to use the tools:\n",
      "            User : What is the company overview for \"AAPL\".\n",
      "             To gather the company overview, I will use the \"Company Overview\" tool.\n",
      "            \n",
      "   \n",
      "            ### TAGs for tool usage:\n",
      "            - To use a tool, you must wrap the API call in <InvokeTool> and </InvokeTool> tags.\n",
      "            -  For thinking, you must wrap your thoughts in <Thought> and </Thought> tags.\n",
      "            -  For final answers, you must wrap your answer in <FinalAnswer> and </FinalAnswer> tags.\n",
      "            -  If you need users to provide more information, you must wrap your request in <RequestMoreInfo> and </RequestMoreInfo> tags.\n",
      "            -  If you are going to use a tool, you must always think first. Get the concern of the user query with <NeedApproval>, decide which tool to use, and then use the tool.\n",
      "           \n",
      "            ### Thinking Process: \n",
      "              Based on the user query, decide which tools to use and in what order.\n",
      "              After using a tool, analyze the result and decide the next step.\n",
      "              Continue this process until you have enough information to answer the user's query.\n",
      "              Finally, provide a comprehensive answer to the user's query.\n",
      "              \n",
      "            Conversation:\n",
      "               \n",
      "\n"
     ]
    }
   ],
   "source": [
    "from google import genai\n",
    "\n",
    "# The client gets the API key from the environment variable `GEMINI_API_KEY`.\n",
    "client = genai.Client()\n",
    "\n",
    "symbol = \"AAPL\"\n",
    "report = \"all\"  # Options: income statement, balance sheet, cash flow, all\n",
    "benchmark = \"SPY\"  # S&P 500 ETF as benchmark\n",
    "systemPrompt = f\"\"\"You are a helpful Finance assistant that explains things in a few words.\n",
    "          You have the following tools:\n",
    "            {toolsList}\n",
    "            \n",
    "            You should only use the tools listed above.\n",
    "            When you use a tool, you must call the API exactly as shown above.\n",
    "            You must always include the symbol in the API call.\n",
    "            You must always include the step in the API call.\n",
    "            You must always use double quotes for the JSON keys and string values in the API call.\n",
    "            You must never use single quotes in the API call.\n",
    "            You must never call any API that is not listed above.\n",
    "            You must never make up any API calls.\n",
    "            You must never repeat any steps.\n",
    "            \n",
    "            Here is an example of how to use the tools:\n",
    "            User : What is the company overview for \"AAPL\".\n",
    "             To gather the company overview, I will use the \"Company Overview\" tool.\n",
    "            \n",
    "   \n",
    "            ### TAGs for tool usage:\n",
    "            - To use a tool, you must wrap the API call in <InvokeTool> and </InvokeTool> tags.\n",
    "            -  For thinking, you must wrap your thoughts in <Thought> and </Thought> tags.\n",
    "            -  For final answers, you must wrap your answer in <FinalAnswer> and </FinalAnswer> tags.\n",
    "            -  If you need users to provide more information, you must wrap your request in <RequestMoreInfo> and </RequestMoreInfo> tags.\n",
    "            -  If you are going to use a tool, you must always think first. Get the concern of the user query with <NeedApproval>, decide which tool to use, and then use the tool.\n",
    "           \n",
    "            ### Thinking Process: \n",
    "              Based on the user query, decide which tools to use and in what order.\n",
    "              After using a tool, analyze the result and decide the next step.\n",
    "              Continue this process until you have enough information to answer the user's query.\n",
    "              Finally, provide a comprehensive answer to the user's query.\n",
    "              \n",
    "            Conversation:\n",
    "               \n",
    "\"\"\"\n",
    "print(systemPrompt)"
   ]
  },
  {
   "cell_type": "code",
   "execution_count": 6,
   "id": "014ef5cc",
   "metadata": {},
   "outputs": [],
   "source": [
    "import modules.parser as parser\n",
    "parser = parser.XmlParser()\n",
    "# parsedResponse = parser.parse_all(response.text.replace('\\n', ' '))\n",
    "# print(parsedResponse)"
   ]
  },
  {
   "cell_type": "code",
   "execution_count": 7,
   "id": "ca7f3423",
   "metadata": {},
   "outputs": [],
   "source": [
    "import json"
   ]
  },
  {
   "cell_type": "code",
   "execution_count": 12,
   "id": "50fac832",
   "metadata": {},
   "outputs": [
    {
     "name": "stdin",
     "output_type": "stream",
     "text": [
      "User:  Summarize the latest news from Apple and give me today's stock price.\n",
      "Need to Call FinnHub News. Type Y/y to continue...) y\n"
     ]
    },
    {
     "name": "stdout",
     "output_type": "stream",
     "text": [
      "Invoking FinnHub News with arguments {'symbol': 'AAPL', 'step': 1}\n"
     ]
    },
    {
     "name": "stdin",
     "output_type": "stream",
     "text": [
      "Need to Call Yahoo Finance Stock Quote. Type Y/y to continue...) y\n"
     ]
    },
    {
     "name": "stdout",
     "output_type": "stream",
     "text": [
      "Invoking Yahoo Finance Stock Quote with arguments {'symbol': 'AAPL', 'step': 2}\n",
      "Final Answer: Apple is deeply involved in AI, planning smart glasses and integrating AI into its products. The iPhone 17 is seeing strong demand, though some analysts are cautious about future models' expectations. Apple faces legal scrutiny regarding chip royalties and data collection. The stock price is **$254.04**.\n"
     ]
    },
    {
     "name": "stdin",
     "output_type": "stream",
     "text": [
      "Do you want to exit? Type Y/y to exit... y\n"
     ]
    },
    {
     "name": "stdout",
     "output_type": "stream",
     "text": [
      "Thanks for chatting! Goodbye!\n"
     ]
    }
   ],
   "source": [
    "prompt = systemPrompt\n",
    "userText =\"\"\n",
    "continueFlag = False\n",
    "exitFlag = \"\"\n",
    "debug = False\n",
    "while userText.lower() != \"exit\" or exitFlag.lower() != \"y\":\n",
    "    if not continueFlag:\n",
    "        userText = input(\"User: \")\n",
    "        if userText.lower() == \"exit\":\n",
    "            break\n",
    "        prompt += \"\\n User:\"+ userText\n",
    "        continueFlag = False\n",
    "    if debug:\n",
    "        print('Prompt: ')\n",
    "        print(prompt)\n",
    "    response = client.models.generate_content(\n",
    "        model=\"gemini-2.5-flash\", contents=prompt\n",
    "    )\n",
    "    if debug:\n",
    "        print('Model response: ')\n",
    "        print(response.text)\n",
    "    prompt = prompt + response.text\n",
    "    actions = parser.parse_all(response.text.replace('\\n', ' '))\n",
    "    if debug:\n",
    "        print('Actions: ')\n",
    "        print(actions)\n",
    "    if not actions:\n",
    "        continue\n",
    "    if len(actions) >= 1:\n",
    "        actions = { action['action']: action for action in actions if action.get(\"action\",\"\") != \"Final Answer\" }\n",
    "        if \"NeedApproval\" in actions:\n",
    "            actions.pop(\"NeedApproval\")\n",
    "            if \"InvokeTool\" in actions:\n",
    "                #result=input(\"Need to Call \" + actions[\"InvokeTool\"].get(\"name\",\"\") + \" Y/y to continue...)\")\n",
    "                result=input(\"Need to Call \" + actions[\"InvokeTool\"]['parameters']['name'] + \". Type Y/y to continue...)\")\n",
    "            else:\n",
    "                result=input(\"Need User Approval Y/y to continue...)\")\n",
    "            if result.lower() != \"y\":\n",
    "                print(\"Exiting...\")\n",
    "                break\n",
    "            actions[\"NeedApproval\"] = {\"action\":\"NeedApproval\", \"content\":\"User approved to continue.\"}\n",
    "            prompt += \"\\n User:\"+ actions[\"NeedApproval\"].get(\"content\",\"\")\n",
    "        if 'InvokeTool' in actions:\n",
    "            action = actions[\"InvokeTool\"]\n",
    "            tools_name = action[\"parameters\"][\"name\"]\n",
    "            tool_params = action[\"parameters\"][\"api\"]\n",
    "            result = executionMap[tools_name].invoke(**json.loads(tool_params))\n",
    "            actions[\"Tool result\"] = {\"action\":\"Tool result\", \"content\":result}\n",
    "            prompt += \"\\n User:\"+ str(result)\n",
    "            continueFlag = True\n",
    "        if \"FinalAnswer\" in actions:\n",
    "            content = actions[\"FinalAnswer\"]['parameters']['content']\n",
    "            print(\"Final Answer: \"+ str(content))\n",
    "            exitFlag = input(\"Do you want to exit? Type Y/y to exit...\")\n",
    "            if exitFlag.lower() == \"y\":\n",
    "                print('Thanks for chatting! Goodbye!')\n",
    "                break\n",
    "            "
   ]
  }
 ],
 "metadata": {
  "kernelspec": {
   "display_name": "Python 3 (ipykernel)",
   "language": "python",
   "name": "python3"
  },
  "language_info": {
   "codemirror_mode": {
    "name": "ipython",
    "version": 3
   },
   "file_extension": ".py",
   "mimetype": "text/x-python",
   "name": "python",
   "nbconvert_exporter": "python",
   "pygments_lexer": "ipython3",
   "version": "3.12.3"
  }
 },
 "nbformat": 4,
 "nbformat_minor": 5
}
