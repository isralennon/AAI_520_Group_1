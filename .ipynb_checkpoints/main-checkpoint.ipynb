{
 "cells": [
  {
   "cell_type": "code",
   "execution_count": 2,
   "id": "18dc57cb",
   "metadata": {},
   "outputs": [
    {
     "name": "stderr",
     "output_type": "stream",
     "text": [
      "ERROR: pip's dependency resolver does not currently take into account all the packages that are installed. This behaviour is the source of the following dependency conflicts.\n",
      "pyppeteer 2.0.0 requires urllib3<2.0.0,>=1.25.8, but you have urllib3 2.5.0 which is incompatible.\n",
      "pyppeteer 2.0.0 requires websockets<11.0,>=10.0, but you have websockets 15.0.1 which is incompatible.\n"
     ]
    }
   ],
   "source": [
    "!pip3 install -q -U google-genai"
   ]
  },
  {
   "cell_type": "code",
   "execution_count": null,
   "id": "8123dc44",
   "metadata": {},
   "outputs": [],
   "source": [
    "import os\n",
    "os.environ[\"GEMINI_API_KEY\"] = \"API_KEY\""
   ]
  },
  {
   "cell_type": "code",
   "execution_count": 15,
   "id": "b149755d-37f2-4329-b201-1176e4ef3490",
   "metadata": {},
   "outputs": [
    {
     "name": "stdout",
     "output_type": "stream",
     "text": [
      "Collecting yfinance\n",
      "  Downloading yfinance-0.2.66-py2.py3-none-any.whl.metadata (6.0 kB)\n",
      "Requirement already satisfied: pandas>=1.3.0 in c:\\users\\isral\\appdata\\roaming\\python\\python312\\site-packages (from yfinance) (2.3.1)\n",
      "Requirement already satisfied: numpy>=1.16.5 in c:\\users\\isral\\appdata\\roaming\\python\\python312\\site-packages (from yfinance) (1.26.4)\n",
      "Requirement already satisfied: requests>=2.31 in c:\\users\\isral\\.conda\\envs\\iro\\lib\\site-packages (from yfinance) (2.32.5)\n",
      "Collecting multitasking>=0.0.7 (from yfinance)\n",
      "  Downloading multitasking-0.0.12.tar.gz (19 kB)\n",
      "  Preparing metadata (setup.py): started\n",
      "  Preparing metadata (setup.py): finished with status 'done'\n",
      "Requirement already satisfied: platformdirs>=2.0.0 in c:\\users\\isral\\.conda\\envs\\iro\\lib\\site-packages (from yfinance) (3.10.0)\n",
      "Requirement already satisfied: pytz>=2022.5 in c:\\users\\isral\\appdata\\roaming\\python\\python312\\site-packages (from yfinance) (2025.2)\n",
      "Collecting frozendict>=2.3.4 (from yfinance)\n",
      "  Downloading frozendict-2.4.6-py312-none-any.whl.metadata (23 kB)\n",
      "Collecting peewee>=3.16.2 (from yfinance)\n",
      "  Downloading peewee-3.18.2.tar.gz (949 kB)\n",
      "     ---------------------------------------- 0.0/949.2 kB ? eta -:--:--\n",
      "     ---------------------------------------- 949.2/949.2 kB 22.2 MB/s  0:00:00\n",
      "  Installing build dependencies: started\n",
      "  Installing build dependencies: finished with status 'done'\n",
      "  Getting requirements to build wheel: started\n",
      "  Getting requirements to build wheel: finished with status 'done'\n",
      "  Preparing metadata (pyproject.toml): started\n",
      "  Preparing metadata (pyproject.toml): finished with status 'done'\n",
      "Requirement already satisfied: beautifulsoup4>=4.11.1 in c:\\users\\isral\\.conda\\envs\\iro\\lib\\site-packages (from yfinance) (4.12.3)\n",
      "Collecting curl_cffi>=0.7 (from yfinance)\n",
      "  Downloading curl_cffi-0.13.0-cp39-abi3-win_amd64.whl.metadata (13 kB)\n",
      "Requirement already satisfied: protobuf>=3.19.0 in c:\\users\\isral\\.conda\\envs\\iro\\lib\\site-packages (from yfinance) (5.29.3)\n",
      "Requirement already satisfied: websockets>=13.0 in c:\\users\\isral\\.conda\\envs\\iro\\lib\\site-packages (from yfinance) (15.0.1)\n",
      "Requirement already satisfied: soupsieve>1.2 in c:\\users\\isral\\.conda\\envs\\iro\\lib\\site-packages (from beautifulsoup4>=4.11.1->yfinance) (2.5)\n",
      "Requirement already satisfied: cffi>=1.12.0 in c:\\users\\isral\\.conda\\envs\\iro\\lib\\site-packages (from curl_cffi>=0.7->yfinance) (1.17.1)\n",
      "Requirement already satisfied: certifi>=2024.2.2 in c:\\users\\isral\\.conda\\envs\\iro\\lib\\site-packages (from curl_cffi>=0.7->yfinance) (2025.8.3)\n",
      "Requirement already satisfied: pycparser in c:\\users\\isral\\.conda\\envs\\iro\\lib\\site-packages (from cffi>=1.12.0->curl_cffi>=0.7->yfinance) (2.21)\n",
      "Requirement already satisfied: python-dateutil>=2.8.2 in c:\\users\\isral\\appdata\\roaming\\python\\python312\\site-packages (from pandas>=1.3.0->yfinance) (2.9.0.post0)\n",
      "Requirement already satisfied: tzdata>=2022.7 in c:\\users\\isral\\appdata\\roaming\\python\\python312\\site-packages (from pandas>=1.3.0->yfinance) (2025.2)\n",
      "Requirement already satisfied: six>=1.5 in c:\\users\\isral\\appdata\\roaming\\python\\python312\\site-packages (from python-dateutil>=2.8.2->pandas>=1.3.0->yfinance) (1.17.0)\n",
      "Requirement already satisfied: charset_normalizer<4,>=2 in c:\\users\\isral\\.conda\\envs\\iro\\lib\\site-packages (from requests>=2.31->yfinance) (3.3.2)\n",
      "Requirement already satisfied: idna<4,>=2.5 in c:\\users\\isral\\.conda\\envs\\iro\\lib\\site-packages (from requests>=2.31->yfinance) (3.7)\n",
      "Requirement already satisfied: urllib3<3,>=1.21.1 in c:\\users\\isral\\.conda\\envs\\iro\\lib\\site-packages (from requests>=2.31->yfinance) (2.5.0)\n",
      "Downloading yfinance-0.2.66-py2.py3-none-any.whl (123 kB)\n",
      "Downloading curl_cffi-0.13.0-cp39-abi3-win_amd64.whl (1.6 MB)\n",
      "   ---------------------------------------- 0.0/1.6 MB ? eta -:--:--\n",
      "   ---------------------------------------- 1.6/1.6 MB 43.6 MB/s  0:00:00\n",
      "Downloading frozendict-2.4.6-py312-none-any.whl (16 kB)\n",
      "Building wheels for collected packages: multitasking, peewee\n",
      "  Building wheel for multitasking (setup.py): started\n",
      "  Building wheel for multitasking (setup.py): finished with status 'done'\n",
      "  Created wheel for multitasking: filename=multitasking-0.0.12-py3-none-any.whl size=15703 sha256=b3bd8fdf4a38a7054a4034726021dd8e286f71cf4b248c65048b2269b5bcaf89\n",
      "  Stored in directory: c:\\users\\isral\\appdata\\local\\pip\\cache\\wheels\\cc\\bd\\6f\\664d62c99327abeef7d86489e6631cbf45b56fbf7ef1d6ef00\n",
      "  Building wheel for peewee (pyproject.toml): started\n",
      "  Building wheel for peewee (pyproject.toml): finished with status 'done'\n",
      "  Created wheel for peewee: filename=peewee-3.18.2-cp312-cp312-win_amd64.whl size=264118 sha256=3e3814351ec78e8b6e6e0559d14ba7be96db568bd41355ff4f8d112dc4342089\n",
      "  Stored in directory: c:\\users\\isral\\appdata\\local\\pip\\cache\\wheels\\d1\\df\\a9\\0202b051c65b11c992dd6db9f2babdd2c44ec7d35d511be5d3\n",
      "Successfully built multitasking peewee\n",
      "Installing collected packages: peewee, multitasking, frozendict, curl_cffi, yfinance\n",
      "\n",
      "   ---------------------------------------- 0/5 [peewee]\n",
      "   ---------------------------------------- 0/5 [peewee]\n",
      "   ---------------------------------------- 0/5 [peewee]\n",
      "   ---------------- ----------------------- 2/5 [frozendict]\n",
      "   ------------------------ --------------- 3/5 [curl_cffi]\n",
      "   ------------------------ --------------- 3/5 [curl_cffi]\n",
      "   ------------------------ --------------- 3/5 [curl_cffi]\n",
      "   -------------------------------- ------- 4/5 [yfinance]\n",
      "   -------------------------------- ------- 4/5 [yfinance]\n",
      "   -------------------------------- ------- 4/5 [yfinance]\n",
      "   -------------------------------- ------- 4/5 [yfinance]\n",
      "   -------------------------------- ------- 4/5 [yfinance]\n",
      "   -------------------------------- ------- 4/5 [yfinance]\n",
      "   ---------------------------------------- 5/5 [yfinance]\n",
      "\n",
      "Successfully installed curl_cffi-0.13.0 frozendict-2.4.6 multitasking-0.0.12 peewee-3.18.2 yfinance-0.2.66\n"
     ]
    },
    {
     "name": "stderr",
     "output_type": "stream",
     "text": [
      "  DEPRECATION: Building 'multitasking' using the legacy setup.py bdist_wheel mechanism, which will be removed in a future version. pip 25.3 will enforce this behaviour change. A possible replacement is to use the standardized build interface by setting the `--use-pep517` option, (possibly combined with `--no-build-isolation`), or adding a `pyproject.toml` file to the source tree of 'multitasking'. Discussion can be found at https://github.com/pypa/pip/issues/6334\n"
     ]
    }
   ],
   "source": [
    "#Install libraries if needed\n",
    "#!pip install finnhub-python\n",
    "!pip install yfinance\n",
    "#!pip install requests"
   ]
  },
  {
   "cell_type": "code",
   "execution_count": 13,
   "id": "ed1fee50-9f68-42ca-9079-63ab9bf5a42b",
   "metadata": {},
   "outputs": [],
   "source": [
    "import requests\n",
    "#Stock Quote Short API\n",
    "FMPEndpoint = 'https://financialmodelingprep.com/stable/search-symbol'\n",
    "FMPAPIKey = 'POrfdY6XMGe832bjjxm7fEmqODrvyJwl'\n",
    "def get_stock_quote_fmp(symbol: str) -> dict:\n",
    "    params = {\n",
    "        \"query\": symbol,\n",
    "        \"apikey\": FMPAPIKey\n",
    "    }\n",
    "    try:\n",
    "        response = requests.get(FMPEndpoint, params=params)\n",
    "        response.raise_for_status()\n",
    "        return response.json()\n",
    "    except requests.exceptions.RequestException as e:\n",
    "        print(f'FMP API error: {e}')\n",
    "        return {}"
   ]
  },
  {
   "cell_type": "code",
   "execution_count": 5,
   "id": "74ef7cf9-9e99-4091-a3f8-a36b909674aa",
   "metadata": {},
   "outputs": [],
   "source": [
    "#Finnhub.io functionality\n",
    "import finnhub\n",
    "\n",
    "FinnHubAPIKey = 'd3fjtdhr01qolkndipl0d3fjtdhr01qolkndiplg'\n",
    "def get_stock_quote_finnhub(symbol: str) -> dict:\n",
    "    #Arguments:\n",
    "    #symbol (str): this represents the stock ticker, like 'AAPL' for Apple\n",
    "    \n",
    "    #Next, we setup the client to perform calls:\n",
    "    finn_client = finnhub.Client(api_key=FinnHubAPIKey)\n",
    "\n",
    "    #Now, we call the API\n",
    "    try:\n",
    "        return finn_client.quote(symbol)\n",
    "    except Exception as e:\n",
    "        print(f'Finnhub.io API error: {e}')\n",
    "        return {}"
   ]
  },
  {
   "cell_type": "code",
   "execution_count": 16,
   "id": "64ad0e76-d8a0-43eb-9136-c537f38236d9",
   "metadata": {},
   "outputs": [],
   "source": [
    "import yfinance as yf\n",
    "\n",
    "def get_stock_quote_yahoo(symbol: str) -> dict:\n",
    "    ticker = yf.Ticker(symbol)\n",
    "\n",
    "    # `fast_info` is faster than full history, use if available\n",
    "    try:\n",
    "        info = ticker.fast_info\n",
    "        return {\n",
    "            \"symbol\": symbol,\n",
    "            \"last_price\": info[\"lastPrice\"],\n",
    "            \"day_high\": info[\"dayHigh\"],\n",
    "            \"day_low\": info[\"dayLow\"],\n",
    "            \"previous_close\": info[\"previousClose\"]\n",
    "        }\n",
    "    except Exception as e:\n",
    "        print(f\"Yahoo Finance API error: {e}\")\n",
    "        return {}"
   ]
  },
  {
   "cell_type": "code",
   "execution_count": 17,
   "id": "69f4cc18-0f5d-46ae-8412-adf225b4ea5e",
   "metadata": {},
   "outputs": [
    {
     "name": "stdout",
     "output_type": "stream",
     "text": [
      "FMP Results\n",
      "[{'symbol': 'AAPL', 'name': 'Apple Inc.', 'currency': 'USD', 'exchangeFullName': 'NASDAQ Global Select', 'exchange': 'NASDAQ'}, {'symbol': 'AAPL.L', 'name': 'LS 1x Apple Tracker ETC', 'currency': 'GBp', 'exchangeFullName': 'London Stock Exchange', 'exchange': 'LSE'}, {'symbol': 'AAPL.NE', 'name': 'Apple Inc.', 'currency': 'CAD', 'exchangeFullName': 'CBOE CA', 'exchange': 'NEO'}, {'symbol': 'AAPL.MX', 'name': 'Apple Inc.', 'currency': 'MXN', 'exchangeFullName': 'Mexican Stock Exchange', 'exchange': 'MEX'}, {'symbol': 'AAPL.DE', 'name': 'Apple Inc.', 'currency': 'EUR', 'exchangeFullName': 'Deutsche Börse', 'exchange': 'XETRA'}, {'symbol': 'AAPLUSTRAD.BO', 'name': 'AA Plus Tradelink Limited', 'currency': 'INR', 'exchangeFullName': 'Bombay Stock Exchange', 'exchange': 'BSE'}, {'symbol': 'HARIAAPL.BO', 'name': 'Haria Apparels Limited', 'currency': 'INR', 'exchangeFullName': 'Bombay Stock Exchange', 'exchange': 'BSE'}]\n",
      "Finnhub Results\n",
      "{'c': 257.13, 'd': 1.68, 'dp': 0.6577, 'h': 258.18, 'l': 254.15, 'o': 256.575, 'pc': 255.45, 't': 1759435200}\n",
      "Yahoo! Finance Results\n",
      "{'symbol': 'AAPL', 'last_price': 257.1300048828125, 'day_high': 258.17999267578125, 'day_low': 254.14999389648438, 'previous_close': 255.28}\n"
     ]
    }
   ],
   "source": [
    "print('FMP Results')\n",
    "print(get_stock_quote_fmp('AAPL'))\n",
    "print('Finnhub Results')\n",
    "print(get_stock_quote_finnhub('AAPL'))\n",
    "print('Yahoo! Finance Results')\n",
    "print(get_stock_quote_yahoo('AAPL'))\n"
   ]
  },
  {
   "cell_type": "code",
   "execution_count": 7,
   "id": "00370758",
   "metadata": {},
   "outputs": [
    {
     "name": "stdout",
     "output_type": "stream",
     "text": [
      "To determine the best price to buy, I need to conduct a thorough analysis. I'll start by understanding the company.\n",
      "To gather the company overview, I will use the \"Company Overview\" tool.\n",
      "<InvokeTool>{\"symbol\": \"AAPL\", \"step\": \"info\"}</InvokeTool>\n"
     ]
    }
   ],
   "source": [
    "from google import genai\n",
    "\n",
    "# The client gets the API key from the environment variable `GEMINI_API_KEY`.\n",
    "client = genai.Client()\n",
    "prompt = \"\"\"You are a helpful Finance assistant that explains things in a few words.\n",
    "          You have the following tools:\n",
    "                      {\n",
    "                'step': 'Company Overview',\n",
    "                'description': f'Gather basic information about {symbol} including company description, sector, and industry',\n",
    "                'tools': ['Yahoo Finance API'],\n",
    "                'api': '{\"symbol\": symbol, \"step\": \"info\"}',\n",
    "            },\n",
    "            {\n",
    "                'step': 'Financial Analysis',\n",
    "                'description': f'Analyze the financial statements of {symbol} including income statement, balance sheet, and cash flow',\n",
    "                'tools': ['Yahoo Finance API', 'SEC EDGAR'],\n",
    "                'api': '{\"symbol\": symbol, \"step\": \"financials\"}',\n",
    "            },\n",
    "            {\n",
    "                'step': 'Stock Performance',\n",
    "                'description': f'Analyze historical stock performance of {symbol} and compare with market benchmarks',\n",
    "                'tools': ['Yahoo Finance API'],\n",
    "                'api': '{\"symbol\": symbol, \"step\": \"performance\"}',\n",
    "            },\n",
    "            {\n",
    "                'step': 'News Sentiment',\n",
    "                'description': f'Collect and analyze recent news articles about {symbol} to assess sentiment',\n",
    "                'tools': ['News API', 'Sentiment Analysis'],\n",
    "                'api': '{\"symbol\": symbol, \"step\": \"news_sentiment\"}',\n",
    "            },\n",
    "            {\n",
    "                'step': 'Market Context',\n",
    "                'description': 'Analyze broader market trends and economic indicators',\n",
    "                'tools': ['FRED API', 'Yahoo Finance API'],\n",
    "                'api': '{\"symbol\": symbol, \"step\": \"market_context\"}',\n",
    "            },\n",
    "            {\n",
    "                'step': 'Competitive Analysis',\n",
    "                'description': f'Identify and analyze key competitors of {symbol}',\n",
    "                'tools': ['Yahoo Finance API', 'News API'],\n",
    "                'api': '{\"symbol\": symbol, \"step\": \"competitors\"}',\n",
    "            },\n",
    "            {\n",
    "                'step': 'Risk Assessment',\n",
    "                'description': f'Identify and evaluate potential risks for {symbol}',\n",
    "                'tools': ['SEC EDGAR', 'News API', 'Financial Analysis'],\n",
    "                'api': '{\"symbol\": symbol, \"step\": \"risk_assessment\"}',\n",
    "            },\n",
    "            {\n",
    "                'step': 'Investment Recommendation',\n",
    "                'description': f'Synthesize findings into an investment recommendation for {symbol}',\n",
    "                'tools': ['Analysis Integration'],\n",
    "                'api': '{\"symbol\": symbol, \"step\": \"investment_recommendation\"}'\n",
    "            },\n",
    "            {\n",
    "                'step': 'Earnings Analysis',\n",
    "                'description': f'Analyze upcoming earnings announcement for {symbol} and historical earnings patterns',\n",
    "                'tools': ['Yahoo Finance API', 'Earnings Calendar', 'SEC EDGAR'],\n",
    "                'api': '{\"symbol\": symbol, \"step\": \"earnings_analysis\"}'\n",
    "            },\n",
    "            {\n",
    "                'step': 'Industry Analysis',\n",
    "                'description': f'Deep dive into the industry trends and outlook for the sector of {symbol}',\n",
    "                'tools': ['Industry Reports', 'FRED API', 'News API'],\n",
    "                'api': '{\"symbol\": symbol, \"step\": \"industry_analysis\"}'\n",
    "            },\n",
    "            {\n",
    "                'step': 'Previous Insights Review',\n",
    "                'description': f'Review previous research insights about {symbol}',\n",
    "                'tools': ['Memory System'],\n",
    "                'api': '{\"symbol\": symbol, \"step\": \"previous_insights\"}'\n",
    "            }\n",
    "            \n",
    "            You should only use the tools listed above.\n",
    "            When you use a tool, you must call the API exactly as shown above.\n",
    "            You must always include the symbol in the API call.\n",
    "            You must always include the step in the API call.\n",
    "            You must always use double quotes for the JSON keys and string values in the API call.\n",
    "            You must never use single quotes in the API call.\n",
    "            You must never call any API that is not listed above.\n",
    "            You must never make up any API calls.\n",
    "            You must never repeat any steps.\n",
    "            \n",
    "            Here is an example of how to use the tools:\n",
    "            User : What is the company overview for \"AAPL\".\n",
    "            Assistant : To gather the company overview, I will use the \"Company Overview\" tool.\n",
    "            Assistant : <InvokeTool>{\"symbol\": \"AAPL\", \"step\": \"info\"}</InvokeTool>\n",
    "            Tool : <ToolResult>{\"name\": \"Company Overview\", \"result\": {\"companyName\": \"Apple Inc.\", \"sector\": \"Technology\", \"industry\": \"Consumer Electronics\"}}</ToolResult>\n",
    "            Assistant : <Thought>Based on the company overview, Apple Inc. is a leading technology company in the consumer electronics industry.</Thought>\n",
    "            \n",
    "            Instructions: \n",
    "              Based on the user query, decide which tools to use and in what order.\n",
    "              After using a tool, analyze the result and decide the next step.\n",
    "              Continue this process until you have enough information to answer the user's query.\n",
    "              Finally, provide a comprehensive answer to the user's query.\n",
    "              \n",
    "            User : What is the best price to buy \"AAPL\"?\n",
    "\"\"\"\n",
    "\n",
    "response = client.models.generate_content(\n",
    "    model=\"gemini-2.5-flash\", contents=prompt\n",
    ")\n",
    "print(response.text)"
   ]
  },
  {
   "cell_type": "code",
   "execution_count": 8,
   "id": "aae1e42f",
   "metadata": {},
   "outputs": [],
   "source": [
    "tool_results = \"\"\"\n",
    " Tool Results: Company Overview: Apple Inc., Sector: Technology, Industry: Consumer Electronics\n",
    "\"\"\"\n",
    "System = \"\"\"\n",
    "To determine the best price to buy, I need to conduct a thorough analysis. I'll start by understanding the company.\n",
    "To gather the company overview, I will use the \"Company Overview\" tool.\n",
    "<InvokeTool>{\"symbol\": \"AAPL\", \"step\": \"info\"}</InvokeTool>\n",
    "\"\"\"\n",
    "\n"
   ]
  },
  {
   "cell_type": "code",
   "execution_count": 9,
   "id": "54ba01a9",
   "metadata": {},
   "outputs": [],
   "source": [
    "promptChain = System + tool_results + prompt"
   ]
  },
  {
   "cell_type": "code",
   "execution_count": 11,
   "id": "ebb38a6a",
   "metadata": {},
   "outputs": [
    {
     "name": "stdout",
     "output_type": "stream",
     "text": [
      "<Thought>The user wants to determine the best price to buy AAPL. I have already gathered the company overview. The next logical step in a thorough analysis to determine the best price would be to analyze the company's financial statements. This will provide insights into its financial health and performance.</Thought>\n",
      "To analyze the financial statements, I will use the \"Financial Analysis\" tool.\n",
      "<InvokeTool>{\"symbol\": \"AAPL\", \"step\": \"financials\"}</InvokeTool>\n"
     ]
    }
   ],
   "source": [
    "response = client.models.generate_content(\n",
    "    model=\"gemini-2.5-flash\", contents=promptChain\n",
    ")\n",
    "print(response.text)"
   ]
  },
  {
   "cell_type": "code",
   "execution_count": 12,
   "id": "b20b9ea6",
   "metadata": {},
   "outputs": [],
   "source": [
    "tool_results = \"\"\"\n",
    " Financial Analysis: Revenue: $394.33B, Net Income: $99.80B, Total Assets: $352.75B, Liabilities: $287.91B, Equity: $64.84B,current Ratio: 0.93, Debt to Equity Ratio: 1.45, Gross Margin: 43.3%, Operating Margin: 30.3%, Net Margin: 25.3%\n",
    "     current Price: $172.00, 52 Week Range: $129.04 - $182.94, Beta: 1.20, Average Volume: 70M, Market Cap: $2.8T, P/E Ratio: 28.0, EPS: $6.11, Dividend Yield: 0.55%ce: $172.00, 52 Week Range: $129.04 - $182.94, Beta: 1.20, Average Volume: 70M\n",
    "     \"\"\"\n",
    "System = \"\"\"\n",
    "<Thought>The user wants to determine the best price to buy AAPL. I have already gathered the company overview. The next logical step in a thorough analysis to determine the best price would be to analyze the company's financial statements. This will provide insights into its financial health and performance.</Thought>\n",
    "To analyze the financial statements, I will use the \"Financial Analysis\" tool.\n",
    "<InvokeTool>{\"symbol\": \"AAPL\", \"step\": \"financials\"}</InvokeTool>\n",
    "\"\"\"\n",
    "promptChain += System + tool_results "
   ]
  },
  {
   "cell_type": "code",
   "execution_count": 13,
   "id": "1a541118",
   "metadata": {},
   "outputs": [
    {
     "name": "stdout",
     "output_type": "stream",
     "text": [
      "To understand its stock performance, I will use the \"Stock Performance\" tool.\n",
      "<InvokeTool>{\"symbol\": \"AAPL\", \"step\": \"performance\"}</InvokeTool>\n"
     ]
    }
   ],
   "source": [
    "response = client.models.generate_content(\n",
    "    model=\"gemini-2.5-flash\", contents=promptChain\n",
    ")\n",
    "print(response.text)"
   ]
  },
  {
   "cell_type": "code",
   "execution_count": 14,
   "id": "2b58b67c",
   "metadata": {},
   "outputs": [],
   "source": [
    "tool_results =  \"\"\"\n",
    "Stock Performance: AAPL has outperformed the S&P 500 over the past year with a return of 25% compared to the S&P 500's 15%. The stock has shown strong momentum with a 6-month return of 12%. The 50-day moving average is above the 200-day moving average, indicating a bullish trend. However, the stock is currently trading near its 52-week high, which may suggest limited upside potential in the short term.\n",
    "\"\"\"\n",
    "System = \"\"\"\n",
    "To understand its stock performance, I will use the \"Stock Performance\" tool.\n",
    "<InvokeTool>{\"symbol\": \"AAPL\", \"step\": \"performance\"}</InvokeTool> \"\"\"\n",
    "\n",
    "promptChain += System + tool_results"
   ]
  },
  {
   "cell_type": "code",
   "execution_count": 15,
   "id": "e4b8b6f1",
   "metadata": {},
   "outputs": [
    {
     "name": "stdout",
     "output_type": "stream",
     "text": [
      "To assess recent public perception and potential short-term price influences, I will use the \"News Sentiment\" tool.\n",
      "<InvokeTool>{\"symbol\": \"AAPL\", \"step\": \"news_sentiment\"}</InvokeTool>\n"
     ]
    }
   ],
   "source": [
    "response = client.models.generate_content(\n",
    "    model=\"gemini-2.5-flash\", contents=promptChain\n",
    ")\n",
    "print(response.text)"
   ]
  },
  {
   "cell_type": "code",
   "execution_count": 16,
   "id": "2bd0b084",
   "metadata": {},
   "outputs": [],
   "source": [
    "tool_results =  \"\"\"\n",
    "News Sentiment: Recent news articles about AAPL have been largely positive, highlighting strong product launches and robust earnings reports. Sentiment analysis indicates a 70% positive sentiment, 20% neutral, and 10% negative. Key themes include innovation in technology, expansion in services, and leadership in sustainability initiatives.\n",
    "\"\"\"\n",
    "System = \"\"\"\n",
    "To assess recent public perception and potential short-term price influences, I will use the \"News Sentiment\" tool.\n",
    "<InvokeTool>{\"symbol\": \"AAPL\", \"step\": \"news_sentiment\"}</InvokeTool>\"\"\"\n",
    "\n",
    "promptChain += System + tool_results"
   ]
  },
  {
   "cell_type": "code",
   "execution_count": 18,
   "id": "49c84e48",
   "metadata": {},
   "outputs": [
    {
     "name": "stdout",
     "output_type": "stream",
     "text": [
      "To analyze broader market trends and economic indicators that could influence the stock price, I will use the \"Market Context\" tool.\n",
      "<InvokeTool>{\"symbol\": \"AAPL\", \"step\": \"market_context\"}</InvokeTool>\n"
     ]
    }
   ],
   "source": [
    "response = client.models.generate_content(\n",
    "    model=\"gemini-2.5-flash\", contents=promptChain\n",
    ")\n",
    "print(response.text)"
   ]
  },
  {
   "cell_type": "code",
   "execution_count": 19,
   "id": "fb2989d7",
   "metadata": {},
   "outputs": [],
   "source": [
    "tool_results =  \"\"\"\n",
    "Market Context: The broader market trends indicate a stable economic environment with moderate growth. Key economic indicators such as GDP growth, unemployment rates, and inflation are within healthy ranges. The technology sector, in particular, is experiencing robust growth driven by innovation and increased consumer demand. However, potential risks include geopolitical tensions and regulatory changes that could impact market stability.\n",
    "\"\"\"\n",
    "System = \"\"\"\n",
    "To analyze broader market trends and economic indicators that could influence the stock price, I will use the \"Market Context\" tool.\n",
    "<InvokeTool>{\"symbol\": \"AAPL\", \"step\": \"market_context\"}</InvokeTool>\"\"\"\n",
    "\n",
    "promptChain += System + tool_results"
   ]
  },
  {
   "cell_type": "code",
   "execution_count": 20,
   "id": "6d3f6926",
   "metadata": {},
   "outputs": [
    {
     "name": "stdout",
     "output_type": "stream",
     "text": [
      "To identify key competitors and understand Apple's competitive landscape, I will use the \"Competitive Analysis\" tool.\n",
      "<InvokeTool>{\"symbol\": \"AAPL\", \"step\": \"competitors\"}</InvokeTool>\n"
     ]
    }
   ],
   "source": [
    "response = client.models.generate_content(\n",
    "    model=\"gemini-2.5-flash\", contents=promptChain\n",
    ")\n",
    "print(response.text)"
   ]
  },
  {
   "cell_type": "code",
   "execution_count": 21,
   "id": "c9d259a1",
   "metadata": {},
   "outputs": [],
   "source": [
    "tool_results =  \"\"\"\n",
    "Competitive Analysis: Key competitors for AAPL include Samsung, Google, and Microsoft. These companies are also focusing on innovation and expanding their product offerings. Samsung is a leader in hardware, Google excels in software and services, while Microsoft has a strong presence in enterprise solutions. AAPL's competitive advantages include brand loyalty, a robust ecosystem, and a focus on user experience.\n",
    "\"\"\"\n",
    "System = \"\"\"\n",
    "To identify key competitors and understand Apple's competitive landscape, I will use the \"Competitive Analysis\" tool.\n",
    "<InvokeTool>{\"symbol\": \"AAPL\", \"step\": \"competitors\"}</InvokeTool>\"\"\"\n",
    "\n",
    "promptChain += System + tool_results"
   ]
  },
  {
   "cell_type": "code",
   "execution_count": null,
   "id": "9ae7ce95",
   "metadata": {},
   "outputs": [],
   "source": []
  },
  {
   "cell_type": "code",
   "execution_count": 22,
   "id": "1bfb580d",
   "metadata": {},
   "outputs": [
    {
     "name": "stdout",
     "output_type": "stream",
     "text": [
      "To identify and evaluate potential risks for Apple, I will use the \"Risk Assessment\" tool.\n",
      "<InvokeTool>{\"symbol\": \"AAPL\", \"step\": \"risk_assessment\"}</InvokeTool>\n"
     ]
    }
   ],
   "source": [
    "response = client.models.generate_content(\n",
    "    model=\"gemini-2.5-flash\", contents=promptChain\n",
    ")\n",
    "print(response.text)"
   ]
  },
  {
   "cell_type": "code",
   "execution_count": 23,
   "id": "1f7d2c9d",
   "metadata": {},
   "outputs": [],
   "source": [
    "tool_results =  \"\"\"\n",
    "Risk Assessment: Potential risks for AAPL include supply chain disruptions, regulatory challenges, and intense competition in the technology sector. Additionally, macroeconomic factors such as inflation and interest rate hikes could impact consumer spending on premium products. However, AAPL's strong financial position and diversified product portfolio help mitigate some of these risks.\"\"\"\n",
    "System = \"\"\"\n",
    "To identify and evaluate potential risks for Apple, I will use the \"Risk Assessment\" tool.\n",
    "<InvokeTool>{\"symbol\": \"AAPL\", \"step\": \"risk_assessment\"}</InvokeTool>\"\"\"\n",
    "\n",
    "promptChain += System + tool_results"
   ]
  },
  {
   "cell_type": "code",
   "execution_count": 24,
   "id": "2972e881",
   "metadata": {},
   "outputs": [
    {
     "name": "stdout",
     "output_type": "stream",
     "text": [
      "To synthesize the findings and provide an investment recommendation, including insights on the best price to buy, I will use the \"Investment Recommendation\" tool.\n",
      "<InvokeTool>{\"symbol\": \"AAPL\", \"step\": \"investment_recommendation\"}</InvokeTool>\n"
     ]
    }
   ],
   "source": [
    "response = client.models.generate_content(\n",
    "    model=\"gemini-2.5-flash\", contents=promptChain\n",
    ")\n",
    "print(response.text)"
   ]
  },
  {
   "cell_type": "code",
   "execution_count": null,
   "id": "59d667eb",
   "metadata": {},
   "outputs": [],
   "source": []
  },
  {
   "cell_type": "code",
   "execution_count": 25,
   "id": "ee65de57",
   "metadata": {},
   "outputs": [],
   "source": [
    "tool_results =  \"\"\"\n",
    "Investment Recommendation: Based on the comprehensive analysis, AAPL appears to be a strong investment opportunity. The company has solid financials, positive stock performance, and favorable market context. However, given that the stock is trading near its 52-week high, it may be prudent to wait for a slight pullback before buying. A target buy price could be around $160-$165, which would provide a margin of safety while still allowing for potential upside as the company continues to grow.\n",
    "\"\"\"\n",
    "System = \"\"\"\n",
    "To synthesize the findings and provide an investment recommendation, including insights on the best price to buy, I will use the \"Investment Recommendation\" tool.\n",
    "<InvokeTool>{\"symbol\": \"AAPL\", \"step\": \"investment_recommendation\"}</InvokeTool>\"\"\"\n",
    "\n",
    "promptChain += System + tool_results"
   ]
  },
  {
   "cell_type": "code",
   "execution_count": 26,
   "id": "25fbc4ec",
   "metadata": {},
   "outputs": [
    {
     "name": "stdout",
     "output_type": "stream",
     "text": [
      "Based on the comprehensive analysis, Apple (AAPL) is a strong investment. However, as the stock is near its 52-week high, a prudent buying price would be around **$160-$165** to allow for a margin of safety and potential upside.\n"
     ]
    }
   ],
   "source": [
    "response = client.models.generate_content(\n",
    "    model=\"gemini-2.5-flash\", contents=promptChain\n",
    ")\n",
    "print(response.text)"
   ]
  }
 ],
 "metadata": {
  "kernelspec": {
   "display_name": "Python 3 (ipykernel)",
   "language": "python",
   "name": "python3"
  },
  "language_info": {
   "codemirror_mode": {
    "name": "ipython",
    "version": 3
   },
   "file_extension": ".py",
   "mimetype": "text/x-python",
   "name": "python",
   "nbconvert_exporter": "python",
   "pygments_lexer": "ipython3",
   "version": "3.12.3"
  }
 },
 "nbformat": 4,
 "nbformat_minor": 5
}
